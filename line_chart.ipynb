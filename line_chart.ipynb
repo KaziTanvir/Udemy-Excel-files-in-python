{
 "cells": [
  {
   "cell_type": "code",
   "execution_count": 1,
   "id": "632949a1",
   "metadata": {},
   "outputs": [],
   "source": [
    "from datetime import date\n",
    "\n",
    "from openpyxl import Workbook\n",
    "from openpyxl.chart import LineChart, Reference\n",
    "from openpyxl.chart.axis import DateAxis\n",
    "\n",
    "wb = Workbook()\n",
    "ws = wb.active\n",
    "\n",
    "rows = [\n",
    "    ['Date', 'Batch 1', 'Batch 2', 'Batch 3'],\n",
    "    [date(2015,9, 1), 10, 30, 25],\n",
    "    [date(2015,9, 2), 20, 25, 30],\n",
    "    [date(2015,9, 3), 30, 30, 45],\n",
    "    [date(2015,9, 4), 40, 25, 40],\n",
    "    [date(2015,9, 5), 55, 35, 30],\n",
    "    [date(2015,9, 6), 60, 40, 35],\n",
    "]\n",
    "\n",
    "for row in rows:\n",
    "    ws.append(row)\n",
    "\n",
    "c1 = LineChart()\n",
    "c1.title = \"Line Chart\"\n",
    "c1.legend = None\n",
    "c1.style = 15\n",
    "c1.y_axis.title = 'Size'\n",
    "c1.x_axis.title = 'Test Number'\n",
    "\n",
    "data = Reference(ws, min_col=2, min_row=1, max_col=4, max_row=7)\n",
    "c1.add_data(data, titles_from_data=True)\n",
    "\n",
    "ws.add_chart(c1, \"A10\")\n",
    "\n",
    "wb.save(\"line.xlsx\")"
   ]
  },
  {
   "cell_type": "code",
   "execution_count": null,
   "id": "9f65e7ef",
   "metadata": {},
   "outputs": [],
   "source": []
  }
 ],
 "metadata": {
  "kernelspec": {
   "display_name": "Python 3 (ipykernel)",
   "language": "python",
   "name": "python3"
  },
  "language_info": {
   "codemirror_mode": {
    "name": "ipython",
    "version": 3
   },
   "file_extension": ".py",
   "mimetype": "text/x-python",
   "name": "python",
   "nbconvert_exporter": "python",
   "pygments_lexer": "ipython3",
   "version": "3.10.5"
  }
 },
 "nbformat": 4,
 "nbformat_minor": 5
}

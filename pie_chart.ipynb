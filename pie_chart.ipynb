{
 "cells": [
  {
   "cell_type": "code",
   "execution_count": 1,
   "id": "c1eedd5e",
   "metadata": {},
   "outputs": [],
   "source": [
    "from openpyxl import Workbook\n",
    "from openpyxl.chart import PieChart3D, Reference\n",
    "\n",
    "data = [\n",
    "    ['Fruit', 'Sold'],\n",
    "    ['Apple', 10],\n",
    "    ['Berry', 30],\n",
    "    ['Cherry', 20],\n",
    "    ['Lemon', 40],\n",
    "]\n",
    "\n",
    "wb = Workbook()\n",
    "ws = wb.active\n",
    "\n",
    "for row in data:\n",
    "    ws.append(row)\n",
    "\n",
    "pie = PieChart3D()\n",
    "labels = Reference(ws, min_col=1, min_row=2, max_row=5)\n",
    "data = Reference(ws, min_col=2, min_row=1, max_row=5)\n",
    "pie.add_data(data, titles_from_data=True)\n",
    "pie.set_categories(labels)\n",
    "pie.title = \"Pies sold by category\"\n",
    "\n",
    "ws.add_chart(pie, \"D1\")\n",
    "\n",
    "wb.save(\"pie3D.xlsx\")\n"
   ]
  },
  {
   "cell_type": "code",
   "execution_count": null,
   "id": "570be3dd",
   "metadata": {},
   "outputs": [],
   "source": []
  }
 ],
 "metadata": {
  "kernelspec": {
   "display_name": "Python 3 (ipykernel)",
   "language": "python",
   "name": "python3"
  },
  "language_info": {
   "codemirror_mode": {
    "name": "ipython",
    "version": 3
   },
   "file_extension": ".py",
   "mimetype": "text/x-python",
   "name": "python",
   "nbconvert_exporter": "python",
   "pygments_lexer": "ipython3",
   "version": "3.10.5"
  }
 },
 "nbformat": 4,
 "nbformat_minor": 5
}

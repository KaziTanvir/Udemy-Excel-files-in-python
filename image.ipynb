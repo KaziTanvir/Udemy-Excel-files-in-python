{
 "cells": [
  {
   "cell_type": "code",
   "execution_count": 1,
   "id": "c00703cd",
   "metadata": {},
   "outputs": [],
   "source": [
    "from openpyxl import Workbook \n",
    "from openpyxl.drawing.image import Image \n",
    "\n",
    "wb = Workbook()\n",
    "ws = wb.active \n",
    "\n",
    "img = Image('cat.jpg')\n",
    "ws.add_image(img, 'E4')\n",
    "\n",
    "img2 = Image('shark.jpg')\n",
    "img2.anchor = 'A1'\n",
    "ws.add_image(img2)\n",
    "\n",
    "wb.save('cat.xlsx')"
   ]
  },
  {
   "cell_type": "code",
   "execution_count": null,
   "id": "66b7ac44",
   "metadata": {},
   "outputs": [],
   "source": []
  }
 ],
 "metadata": {
  "kernelspec": {
   "display_name": "Python 3 (ipykernel)",
   "language": "python",
   "name": "python3"
  },
  "language_info": {
   "codemirror_mode": {
    "name": "ipython",
    "version": 3
   },
   "file_extension": ".py",
   "mimetype": "text/x-python",
   "name": "python",
   "nbconvert_exporter": "python",
   "pygments_lexer": "ipython3",
   "version": "3.10.5"
  }
 },
 "nbformat": 4,
 "nbformat_minor": 5
}

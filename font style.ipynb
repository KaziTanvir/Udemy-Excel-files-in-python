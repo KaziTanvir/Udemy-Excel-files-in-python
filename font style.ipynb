{
 "cells": [
  {
   "cell_type": "code",
   "execution_count": 1,
   "id": "55dbb508",
   "metadata": {},
   "outputs": [],
   "source": [
    "from openpyxl.styles import Font \n",
    "from openpyxl.styles.colors import Color\n",
    "from openpyxl import Workbook\n",
    "\n",
    "# Create workbook\n",
    "wb = Workbook()\n",
    "\n",
    "# Select sheet\n",
    "ws = wb['Sheet']\n",
    "\n",
    "# Set font\n",
    "ws['A1'].font = Font(color = \"FF0000\")\n",
    "\n",
    "# Set data\n",
    "ws['A1'] = \"Hello\"\n",
    "    \n",
    "# Save file    \n",
    "wb.save(\"styles.xlsx\")"
   ]
  },
  {
   "cell_type": "code",
   "execution_count": null,
   "id": "1888fcac",
   "metadata": {},
   "outputs": [],
   "source": []
  }
 ],
 "metadata": {
  "kernelspec": {
   "display_name": "Python 3 (ipykernel)",
   "language": "python",
   "name": "python3"
  },
  "language_info": {
   "codemirror_mode": {
    "name": "ipython",
    "version": 3
   },
   "file_extension": ".py",
   "mimetype": "text/x-python",
   "name": "python",
   "nbconvert_exporter": "python",
   "pygments_lexer": "ipython3",
   "version": "3.10.5"
  }
 },
 "nbformat": 4,
 "nbformat_minor": 5
}

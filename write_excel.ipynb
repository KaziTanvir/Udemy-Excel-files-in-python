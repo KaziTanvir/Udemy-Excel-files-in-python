{
 "cells": [
  {
   "cell_type": "code",
   "execution_count": 1,
   "id": "bbb5bc39",
   "metadata": {},
   "outputs": [],
   "source": [
    "from openpyxl import Workbook \n",
    "\n",
    "wb = Workbook()\n",
    "ws = wb.active\n",
    "\n",
    "ws[\"A1\"] = 1\n",
    "ws[\"B2\"] = \"World\"\n",
    "ws[\"C3\"] = \"from\"\n",
    "ws[\"D4\"] = \"Python\"\n",
    "\n",
    "wb.save(\"sample2.xlsx\")\n"
   ]
  },
  {
   "cell_type": "code",
   "execution_count": null,
   "id": "4f70ef7c",
   "metadata": {},
   "outputs": [],
   "source": []
  }
 ],
 "metadata": {
  "kernelspec": {
   "display_name": "Python 3 (ipykernel)",
   "language": "python",
   "name": "python3"
  },
  "language_info": {
   "codemirror_mode": {
    "name": "ipython",
    "version": 3
   },
   "file_extension": ".py",
   "mimetype": "text/x-python",
   "name": "python",
   "nbconvert_exporter": "python",
   "pygments_lexer": "ipython3",
   "version": "3.10.5"
  }
 },
 "nbformat": 4,
 "nbformat_minor": 5
}

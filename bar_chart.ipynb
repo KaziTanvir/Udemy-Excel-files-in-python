{
 "cells": [
  {
   "cell_type": "code",
   "execution_count": 4,
   "id": "73a0605a",
   "metadata": {},
   "outputs": [],
   "source": [
    "from openpyxl import Workbook \n",
    "from openpyxl.chart import BarChart, Reference, Series \n",
    "\n",
    "wb = Workbook()\n",
    "ws = wb.active\n",
    "\n",
    "for i in range(5):\n",
    "    ws.append([i])\n",
    "\n",
    "values = Reference(ws,min_col=1,min_row=1,max_row=5)\n",
    "chart = BarChart()\n",
    "chart.add_data(values)\n",
    "\n",
    "ws.add_chart(chart, \"A1\")\n",
    "\n",
    "wb.save(\"chart.xlsx\")"
   ]
  },
  {
   "cell_type": "code",
   "execution_count": 5,
   "id": "58deb86a",
   "metadata": {},
   "outputs": [],
   "source": [
    "from openpyxl import Workbook \n",
    "from openpyxl.chart import BarChart, Reference, Series \n",
    "\n",
    "wb = Workbook()\n",
    "ws = wb.active\n",
    "i=1\n",
    "for i in range(56):\n",
    "    ws.append([i])\n",
    "\n",
    "values = Reference(ws,min_col=1,min_row=1,max_row=56)\n",
    "chart = BarChart()\n",
    "chart.add_data(values)\n",
    "\n",
    "ws.add_chart(chart, \"A1\")\n",
    "\n",
    "wb.save(\"charts.xlsx\")"
   ]
  },
  {
   "cell_type": "code",
   "execution_count": null,
   "id": "9c2a4d1f",
   "metadata": {},
   "outputs": [],
   "source": []
  }
 ],
 "metadata": {
  "kernelspec": {
   "display_name": "Python 3 (ipykernel)",
   "language": "python",
   "name": "python3"
  },
  "language_info": {
   "codemirror_mode": {
    "name": "ipython",
    "version": 3
   },
   "file_extension": ".py",
   "mimetype": "text/x-python",
   "name": "python",
   "nbconvert_exporter": "python",
   "pygments_lexer": "ipython3",
   "version": "3.10.5"
  }
 },
 "nbformat": 4,
 "nbformat_minor": 5
}
